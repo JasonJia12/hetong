{
 "cells": [
  {
   "cell_type": "markdown",
   "id": "12704454-424f-4cb5-84dd-f1ba883e749c",
   "metadata": {},
   "source": [
    "# 合同关键信息提取助手"
   ]
  },
  {
   "cell_type": "markdown",
   "id": "37c606b2-5ad2-4cfd-9cb9-efac11e441fe",
   "metadata": {},
   "source": [
    "#### 合同关键信息提取助手可以从输入的合同文件中提取相关的关键信息，并制成一个可下载的csv表格"
   ]
  },
  {
   "cell_type": "markdown",
   "id": "e9012d37-e513-4c2a-b882-ff2aacba3234",
   "metadata": {},
   "source": [
    "## 合同关键信息流程"
   ]
  },
  {
   "cell_type": "markdown",
   "id": "5f3905bb-8a01-45bc-84c3-13021f00c8f3",
   "metadata": {},
   "source": [
    "### 1.安装依赖库"
   ]
  },
  {
   "cell_type": "code",
   "execution_count": 1,
   "id": "a2814d39-ec79-4b87-8539-dec73309c2cd",
   "metadata": {},
   "outputs": [
    {
     "name": "stdout",
     "output_type": "stream",
     "text": [
      "Requirement already satisfied: streamlit in /Library/Frameworks/Python.framework/Versions/3.12/lib/python3.12/site-packages (1.35.0)\n",
      "Requirement already satisfied: altair<6,>=4.0 in /Library/Frameworks/Python.framework/Versions/3.12/lib/python3.12/site-packages (from streamlit) (5.3.0)\n",
      "Requirement already satisfied: blinker<2,>=1.0.0 in /Library/Frameworks/Python.framework/Versions/3.12/lib/python3.12/site-packages (from streamlit) (1.8.2)\n",
      "Requirement already satisfied: cachetools<6,>=4.0 in /Library/Frameworks/Python.framework/Versions/3.12/lib/python3.12/site-packages (from streamlit) (5.3.3)\n",
      "Requirement already satisfied: click<9,>=7.0 in /Library/Frameworks/Python.framework/Versions/3.12/lib/python3.12/site-packages (from streamlit) (8.1.7)\n",
      "Requirement already satisfied: numpy<2,>=1.19.3 in /Library/Frameworks/Python.framework/Versions/3.12/lib/python3.12/site-packages (from streamlit) (1.26.4)\n",
      "Requirement already satisfied: packaging<25,>=16.8 in /Library/Frameworks/Python.framework/Versions/3.12/lib/python3.12/site-packages (from streamlit) (23.2)\n",
      "Requirement already satisfied: pandas<3,>=1.3.0 in /Library/Frameworks/Python.framework/Versions/3.12/lib/python3.12/site-packages (from streamlit) (2.2.2)\n",
      "Requirement already satisfied: pillow<11,>=7.1.0 in /Library/Frameworks/Python.framework/Versions/3.12/lib/python3.12/site-packages (from streamlit) (10.3.0)\n",
      "Requirement already satisfied: protobuf<5,>=3.20 in /Library/Frameworks/Python.framework/Versions/3.12/lib/python3.12/site-packages (from streamlit) (4.25.3)\n",
      "Requirement already satisfied: pyarrow>=7.0 in /Library/Frameworks/Python.framework/Versions/3.12/lib/python3.12/site-packages (from streamlit) (16.1.0)\n",
      "Requirement already satisfied: requests<3,>=2.27 in /Library/Frameworks/Python.framework/Versions/3.12/lib/python3.12/site-packages (from streamlit) (2.31.0)\n",
      "Requirement already satisfied: rich<14,>=10.14.0 in /Library/Frameworks/Python.framework/Versions/3.12/lib/python3.12/site-packages (from streamlit) (13.7.1)\n",
      "Requirement already satisfied: tenacity<9,>=8.1.0 in /Library/Frameworks/Python.framework/Versions/3.12/lib/python3.12/site-packages (from streamlit) (8.3.0)\n",
      "Requirement already satisfied: toml<2,>=0.10.1 in /Library/Frameworks/Python.framework/Versions/3.12/lib/python3.12/site-packages (from streamlit) (0.10.2)\n",
      "Requirement already satisfied: typing-extensions<5,>=4.3.0 in /Library/Frameworks/Python.framework/Versions/3.12/lib/python3.12/site-packages (from streamlit) (4.12.2)\n",
      "Requirement already satisfied: gitpython!=3.1.19,<4,>=3.0.7 in /Library/Frameworks/Python.framework/Versions/3.12/lib/python3.12/site-packages (from streamlit) (3.1.43)\n",
      "Requirement already satisfied: pydeck<1,>=0.8.0b4 in /Library/Frameworks/Python.framework/Versions/3.12/lib/python3.12/site-packages (from streamlit) (0.9.1)\n",
      "Requirement already satisfied: tornado<7,>=6.0.3 in /Library/Frameworks/Python.framework/Versions/3.12/lib/python3.12/site-packages (from streamlit) (6.4)\n",
      "Requirement already satisfied: jinja2 in /Library/Frameworks/Python.framework/Versions/3.12/lib/python3.12/site-packages (from altair<6,>=4.0->streamlit) (3.1.4)\n",
      "Requirement already satisfied: jsonschema>=3.0 in /Library/Frameworks/Python.framework/Versions/3.12/lib/python3.12/site-packages (from altair<6,>=4.0->streamlit) (4.22.0)\n",
      "Requirement already satisfied: toolz in /Library/Frameworks/Python.framework/Versions/3.12/lib/python3.12/site-packages (from altair<6,>=4.0->streamlit) (0.12.1)\n",
      "Requirement already satisfied: gitdb<5,>=4.0.1 in /Library/Frameworks/Python.framework/Versions/3.12/lib/python3.12/site-packages (from gitpython!=3.1.19,<4,>=3.0.7->streamlit) (4.0.11)\n",
      "Requirement already satisfied: python-dateutil>=2.8.2 in /Library/Frameworks/Python.framework/Versions/3.12/lib/python3.12/site-packages (from pandas<3,>=1.3.0->streamlit) (2.9.0.post0)\n",
      "Requirement already satisfied: pytz>=2020.1 in /Library/Frameworks/Python.framework/Versions/3.12/lib/python3.12/site-packages (from pandas<3,>=1.3.0->streamlit) (2024.1)\n",
      "Requirement already satisfied: tzdata>=2022.7 in /Library/Frameworks/Python.framework/Versions/3.12/lib/python3.12/site-packages (from pandas<3,>=1.3.0->streamlit) (2024.1)\n",
      "Requirement already satisfied: charset-normalizer<4,>=2 in /Library/Frameworks/Python.framework/Versions/3.12/lib/python3.12/site-packages (from requests<3,>=2.27->streamlit) (3.3.2)\n",
      "Requirement already satisfied: idna<4,>=2.5 in /Library/Frameworks/Python.framework/Versions/3.12/lib/python3.12/site-packages (from requests<3,>=2.27->streamlit) (3.7)\n",
      "Requirement already satisfied: urllib3<3,>=1.21.1 in /Library/Frameworks/Python.framework/Versions/3.12/lib/python3.12/site-packages (from requests<3,>=2.27->streamlit) (2.2.1)\n",
      "Requirement already satisfied: certifi>=2017.4.17 in /Library/Frameworks/Python.framework/Versions/3.12/lib/python3.12/site-packages (from requests<3,>=2.27->streamlit) (2024.2.2)\n",
      "Requirement already satisfied: markdown-it-py>=2.2.0 in /Library/Frameworks/Python.framework/Versions/3.12/lib/python3.12/site-packages (from rich<14,>=10.14.0->streamlit) (3.0.0)\n",
      "Requirement already satisfied: pygments<3.0.0,>=2.13.0 in /Library/Frameworks/Python.framework/Versions/3.12/lib/python3.12/site-packages (from rich<14,>=10.14.0->streamlit) (2.18.0)\n",
      "Requirement already satisfied: smmap<6,>=3.0.1 in /Library/Frameworks/Python.framework/Versions/3.12/lib/python3.12/site-packages (from gitdb<5,>=4.0.1->gitpython!=3.1.19,<4,>=3.0.7->streamlit) (5.0.1)\n",
      "Requirement already satisfied: MarkupSafe>=2.0 in /Library/Frameworks/Python.framework/Versions/3.12/lib/python3.12/site-packages (from jinja2->altair<6,>=4.0->streamlit) (2.1.5)\n",
      "Requirement already satisfied: attrs>=22.2.0 in /Library/Frameworks/Python.framework/Versions/3.12/lib/python3.12/site-packages (from jsonschema>=3.0->altair<6,>=4.0->streamlit) (23.2.0)\n",
      "Requirement already satisfied: jsonschema-specifications>=2023.03.6 in /Library/Frameworks/Python.framework/Versions/3.12/lib/python3.12/site-packages (from jsonschema>=3.0->altair<6,>=4.0->streamlit) (2023.12.1)\n",
      "Requirement already satisfied: referencing>=0.28.4 in /Library/Frameworks/Python.framework/Versions/3.12/lib/python3.12/site-packages (from jsonschema>=3.0->altair<6,>=4.0->streamlit) (0.35.1)\n",
      "Requirement already satisfied: rpds-py>=0.7.1 in /Library/Frameworks/Python.framework/Versions/3.12/lib/python3.12/site-packages (from jsonschema>=3.0->altair<6,>=4.0->streamlit) (0.18.1)\n",
      "Requirement already satisfied: mdurl~=0.1 in /Library/Frameworks/Python.framework/Versions/3.12/lib/python3.12/site-packages (from markdown-it-py>=2.2.0->rich<14,>=10.14.0->streamlit) (0.1.2)\n",
      "Requirement already satisfied: six>=1.5 in /Library/Frameworks/Python.framework/Versions/3.12/lib/python3.12/site-packages (from python-dateutil>=2.8.2->pandas<3,>=1.3.0->streamlit) (1.16.0)\n",
      "Requirement already satisfied: pdf2image in /Library/Frameworks/Python.framework/Versions/3.12/lib/python3.12/site-packages (1.17.0)\n",
      "Requirement already satisfied: pillow in /Library/Frameworks/Python.framework/Versions/3.12/lib/python3.12/site-packages (from pdf2image) (10.3.0)\n",
      "\u001b[33mWarning:\u001b[0m tesseract 5.4.1 is already installed and up-to-date.\n",
      "To reinstall 5.4.1, run:\n",
      "  brew reinstall tesseract\n",
      "Requirement already satisfied: pytesseract in /Library/Frameworks/Python.framework/Versions/3.12/lib/python3.12/site-packages (0.3.10)\n",
      "Requirement already satisfied: packaging>=21.3 in /Library/Frameworks/Python.framework/Versions/3.12/lib/python3.12/site-packages (from pytesseract) (23.2)\n",
      "Requirement already satisfied: Pillow>=8.0.0 in /Library/Frameworks/Python.framework/Versions/3.12/lib/python3.12/site-packages (from pytesseract) (10.3.0)\n",
      "Requirement already satisfied: pillow in /Library/Frameworks/Python.framework/Versions/3.12/lib/python3.12/site-packages (10.3.0)\n",
      "Requirement already satisfied: pandas in /Library/Frameworks/Python.framework/Versions/3.12/lib/python3.12/site-packages (2.2.2)\n",
      "Requirement already satisfied: numpy>=1.26.0 in /Library/Frameworks/Python.framework/Versions/3.12/lib/python3.12/site-packages (from pandas) (1.26.4)\n",
      "Requirement already satisfied: python-dateutil>=2.8.2 in /Library/Frameworks/Python.framework/Versions/3.12/lib/python3.12/site-packages (from pandas) (2.9.0.post0)\n",
      "Requirement already satisfied: pytz>=2020.1 in /Library/Frameworks/Python.framework/Versions/3.12/lib/python3.12/site-packages (from pandas) (2024.1)\n",
      "Requirement already satisfied: tzdata>=2022.7 in /Library/Frameworks/Python.framework/Versions/3.12/lib/python3.12/site-packages (from pandas) (2024.1)\n",
      "Requirement already satisfied: six>=1.5 in /Library/Frameworks/Python.framework/Versions/3.12/lib/python3.12/site-packages (from python-dateutil>=2.8.2->pandas) (1.16.0)\n",
      "Requirement already satisfied: requests in /Library/Frameworks/Python.framework/Versions/3.12/lib/python3.12/site-packages (2.31.0)\n",
      "Requirement already satisfied: charset-normalizer<4,>=2 in /Library/Frameworks/Python.framework/Versions/3.12/lib/python3.12/site-packages (from requests) (3.3.2)\n",
      "Requirement already satisfied: idna<4,>=2.5 in /Library/Frameworks/Python.framework/Versions/3.12/lib/python3.12/site-packages (from requests) (3.7)\n",
      "Requirement already satisfied: urllib3<3,>=1.21.1 in /Library/Frameworks/Python.framework/Versions/3.12/lib/python3.12/site-packages (from requests) (2.2.1)\n",
      "Requirement already satisfied: certifi>=2017.4.17 in /Library/Frameworks/Python.framework/Versions/3.12/lib/python3.12/site-packages (from requests) (2024.2.2)\n",
      "Requirement already satisfied: openai in /Library/Frameworks/Python.framework/Versions/3.12/lib/python3.12/site-packages (1.31.0)\n",
      "Requirement already satisfied: anyio<5,>=3.5.0 in /Library/Frameworks/Python.framework/Versions/3.12/lib/python3.12/site-packages (from openai) (4.4.0)\n",
      "Requirement already satisfied: distro<2,>=1.7.0 in /Library/Frameworks/Python.framework/Versions/3.12/lib/python3.12/site-packages (from openai) (1.9.0)\n",
      "Requirement already satisfied: httpx<1,>=0.23.0 in /Library/Frameworks/Python.framework/Versions/3.12/lib/python3.12/site-packages (from openai) (0.27.0)\n",
      "Requirement already satisfied: pydantic<3,>=1.9.0 in /Library/Frameworks/Python.framework/Versions/3.12/lib/python3.12/site-packages (from openai) (2.7.3)\n",
      "Requirement already satisfied: sniffio in /Library/Frameworks/Python.framework/Versions/3.12/lib/python3.12/site-packages (from openai) (1.3.1)\n",
      "Requirement already satisfied: tqdm>4 in /Library/Frameworks/Python.framework/Versions/3.12/lib/python3.12/site-packages (from openai) (4.66.4)\n",
      "Requirement already satisfied: typing-extensions<5,>=4.7 in /Library/Frameworks/Python.framework/Versions/3.12/lib/python3.12/site-packages (from openai) (4.12.2)\n",
      "Requirement already satisfied: idna>=2.8 in /Library/Frameworks/Python.framework/Versions/3.12/lib/python3.12/site-packages (from anyio<5,>=3.5.0->openai) (3.7)\n",
      "Requirement already satisfied: certifi in /Library/Frameworks/Python.framework/Versions/3.12/lib/python3.12/site-packages (from httpx<1,>=0.23.0->openai) (2024.2.2)\n",
      "Requirement already satisfied: httpcore==1.* in /Library/Frameworks/Python.framework/Versions/3.12/lib/python3.12/site-packages (from httpx<1,>=0.23.0->openai) (1.0.5)\n",
      "Requirement already satisfied: h11<0.15,>=0.13 in /Library/Frameworks/Python.framework/Versions/3.12/lib/python3.12/site-packages (from httpcore==1.*->httpx<1,>=0.23.0->openai) (0.14.0)\n",
      "Requirement already satisfied: annotated-types>=0.4.0 in /Library/Frameworks/Python.framework/Versions/3.12/lib/python3.12/site-packages (from pydantic<3,>=1.9.0->openai) (0.6.0)\n",
      "Requirement already satisfied: pydantic-core==2.18.4 in /Library/Frameworks/Python.framework/Versions/3.12/lib/python3.12/site-packages (from pydantic<3,>=1.9.0->openai) (2.18.4)\n"
     ]
    }
   ],
   "source": [
    "! pip install streamlit\n",
    "! pip install pdf2image\n",
    "! brew install tesseract\n",
    "! pip install pytesseract\n",
    "! pip install pillow\n",
    "! pip install pandas\n",
    "! pip install requests\n",
    "! pip install openai"
   ]
  },
  {
   "cell_type": "markdown",
   "id": "770fce45-2532-4d0d-9bed-7aaf6ac6cd9b",
   "metadata": {},
   "source": [
    "### 2.导入依赖库"
   ]
  },
  {
   "cell_type": "code",
   "execution_count": 2,
   "id": "5a77fc0e-8973-40b6-bedd-9d1ec9a009b1",
   "metadata": {},
   "outputs": [],
   "source": [
    "import requests\n",
    "import streamlit as st\n",
    "from pdf2image import convert_from_bytes\n",
    "import pytesseract\n",
    "from PIL import Image\n",
    "import pandas as pd"
   ]
  },
  {
   "cell_type": "markdown",
   "id": "2d65b522-74f5-425c-a2f9-d2c1db016239",
   "metadata": {},
   "source": [
    "### 3.配置Azure oepnai 的 API\n",
    "需要两个参数，分别是`API_KEY`和`ENDPOINT`，需要在`Azure OpenAI`的`Keys and EndPoint`中查看"
   ]
  },
  {
   "cell_type": "code",
   "execution_count": 3,
   "id": "60819f86-c41f-493c-b8d0-4872b94985b1",
   "metadata": {},
   "outputs": [],
   "source": [
    "API_KEY = 'f03dc7146838448a88e59f32363ab9b7'\n",
    "ENDPOINT = \"https://jcyopenai2.openai.azure.com/openai/deployments/jcy4o/chat/completions?api-version=2024-02-15-preview\"\n",
    "\n",
    "headers = {\n",
    "    \"Content-Type\": \"application/json\",\n",
    "    \"api-key\": API_KEY,\n",
    "}"
   ]
  },
  {
   "cell_type": "markdown",
   "id": "67cafe0a-6911-4014-95ed-406ef5a4caaa",
   "metadata": {},
   "source": [
    "### 4.提示词\n",
    "根据不同的合同类型定义了不用的提示词及对应字段"
   ]
  },
  {
   "cell_type": "code",
   "execution_count": 4,
   "id": "a3107605-81b8-48e7-b783-9aa67e39a779",
   "metadata": {},
   "outputs": [],
   "source": [
    "sales_contract_prompts = {\n",
    "    \"最终用户的公司名称\": \"Please provide only the final user's company name from this contract text.\",\n",
    "    \"合同金额\": \"Please provide only the contract amount in yuan from this contract text.\",\n",
    "    \"服务期限\": \"Please provide only the service term or contract expiration time from this contract text.\",\n",
    "    \"买方的公司地址\": \"Please provide only the buyer's company address from this contract text.\",\n",
    "    \"纳税人识别号\": \"Please provide only the taxpayer identification number from this contract text.\",\n",
    "    \"银行信息\": \"Please provide only the bank account information from this contract text.\"\n",
    "}\n",
    "\n",
    "msp_agreement_prompts = {\n",
    "    \"服务时长\": \"Please provide only the duration of the service from this service agreement.\",\n",
    "    \"服务期限\": \"Please provide only the validity period of the service from this service agreement.\"\n",
    "}"
   ]
  },
  {
   "cell_type": "markdown",
   "id": "436739cc-9170-493d-852c-a474a4177bd4",
   "metadata": {},
   "source": [
    "#### 初始化输出 DataFrame 的结构\n",
    "根据不同的合同类型设定了不同的输出"
   ]
  },
  {
   "cell_type": "code",
   "execution_count": 5,
   "id": "019a0377-86bd-4dc3-aa4e-40bc9dee4e81",
   "metadata": {},
   "outputs": [],
   "source": [
    "columns_for_sales = [\n",
    "    \"最终用户的公司名称\",\n",
    "    \"合同金额\",\n",
    "    \"服务期限\",\n",
    "    \"买方的公司地址\",\n",
    "    \"纳税人识别号\",\n",
    "    \"银行信息\"\n",
    "]\n",
    "columns_for_msp = [\n",
    "    \"服务时长\",\n",
    "    \"服务期限\"\n",
    "]\n",
    "\n",
    "extracted_info_sales = {col: \"/\" for col in columns_for_sales}\n",
    "extracted_info_msp = {col: \"/\" for col in columns_for_msp}"
   ]
  },
  {
   "cell_type": "markdown",
   "id": "62cbdb68-fec2-4b59-860a-1093ebfb68be",
   "metadata": {},
   "source": [
    "### 5.提取中需要的函数\n",
    "\n",
    "#### 与 ChatGPT 进行交互的函数\n",
    "通过GPT4o获取表格中每列的内容"
   ]
  },
  {
   "cell_type": "code",
   "execution_count": 6,
   "id": "5db248c0-b597-4bc0-bcfa-5621703fc466",
   "metadata": {},
   "outputs": [],
   "source": [
    "def extract_content_with_azure(text, prompt):\n",
    "    payload = {\n",
    "        \"messages\": [\n",
    "            {\n",
    "                \"role\": \"system\",\n",
    "                \"content\": \"你是一个北京信诺时代科技发展有限公司的合同关键信息提取助手，用户将询问有关签约客户的合同关键信息，你需要在与不同客户签署的买卖合同和MSP服务协议中，提取出如下的关键信息。\"\n",
    "            },\n",
    "            {\n",
    "                \"role\": \"user\",\n",
    "                \"content\": f\"{prompt}\\n\\n{text}\"\n",
    "            }\n",
    "        ],\n",
    "        \"temperature\": 0.5,\n",
    "        \"top_p\": 0.95,\n",
    "        \"max_tokens\": 150\n",
    "    }\n",
    "    \n",
    "    response = requests.post(ENDPOINT, headers=headers, json=payload)\n",
    "    response.raise_for_status()\n",
    "            \n",
    "    response_json = response.json()\n",
    "    if 'choices' in response_json and len(response_json['choices']) > 0:\n",
    "        return clean_extracted_content(response_json['choices'][0]['message']['content'])"
   ]
  },
  {
   "cell_type": "markdown",
   "id": "5e73c194-fbb8-4a6b-8293-d9de8696067d",
   "metadata": {},
   "source": [
    "#### 清理提取的内容的函数"
   ]
  },
  {
   "cell_type": "code",
   "execution_count": 7,
   "id": "ab1b2c9c-3e9e-4407-8d80-e83d5099bcda",
   "metadata": {},
   "outputs": [],
   "source": [
    "def clean_extracted_content(content):\n",
    "    # 删除所有前导或尾随空格、换行符或不必要的文本\n",
    "    cleaned_content = content.strip()\n",
    "    return cleaned_content"
   ]
  },
  {
   "cell_type": "markdown",
   "id": "23a1d449-6613-450c-a504-11e02b4cff52",
   "metadata": {},
   "source": [
    "#### 将文本拆分成较小段的函数\n",
    "避免段落过长gpt难以识别"
   ]
  },
  {
   "cell_type": "code",
   "execution_count": 8,
   "id": "7452b56c-d428-40ce-a04c-6cb85f5d644c",
   "metadata": {},
   "outputs": [],
   "source": [
    "def split_text(text, max_length=3000):\n",
    "    \"\"\"Splits text into chunks that are within the token limit.\"\"\"\n",
    "    paragraphs = text.split('\\n')\n",
    "    chunks = []\n",
    "    current_chunk = []\n",
    "\n",
    "    for paragraph in paragraphs:\n",
    "        if sum(len(p) for p in current_chunk) + len(paragraph) <= max_length:\n",
    "            current_chunk.append(paragraph)\n",
    "        else:\n",
    "            chunks.append(\"\\n\".join(current_chunk))\n",
    "            current_chunk = [paragraph]\n",
    "\n",
    "    if current_chunk:\n",
    "        chunks.append(\"\\n\".join(current_chunk))\n",
    "\n",
    "    return chunks"
   ]
  },
  {
   "cell_type": "markdown",
   "id": "a9b84e53-99d0-467d-8a9b-1933dc0e9ebc",
   "metadata": {},
   "source": [
    "#### 分段提取的函数"
   ]
  },
  {
   "cell_type": "code",
   "execution_count": 9,
   "id": "cf2628ff-be7c-49ea-9554-fb079119891d",
   "metadata": {},
   "outputs": [],
   "source": [
    "def extract_from_segments(text, prompts):\n",
    "    \"\"\"Extracts information from text divided into segments.\"\"\"\n",
    "    extracted_info = {key: \"/\" for key in prompts.keys()}\n",
    "    \n",
    "    # 将文本拆分成更小的块\n",
    "    text_segments = split_text(text)\n",
    "    \n",
    "    for segment in text_segments:\n",
    "        for key, prompt in prompts.items():\n",
    "            # 仅在尚未填充时尝试提取\n",
    "            if extracted_info[key] == \"/\":\n",
    "                result = extract_content_with_azure(segment, prompt)\n",
    "                if result.strip() != \"/\":\n",
    "                    extracted_info[key] = result\n",
    "\n",
    "    return extracted_info"
   ]
  },
  {
   "cell_type": "markdown",
   "id": "0c16cb7a-64ad-421f-9a78-3e0bc7b37627",
   "metadata": {},
   "source": [
    "### 6.布置 streamlit"
   ]
  },
  {
   "cell_type": "code",
   "execution_count": 10,
   "id": "a1d491ff-da3a-4f99-b3c2-56d2bb31b005",
   "metadata": {},
   "outputs": [
    {
     "name": "stderr",
     "output_type": "stream",
     "text": [
      "2024-08-16 09:42:39.748 \n",
      "  \u001b[33m\u001b[1mWarning:\u001b[0m to view this Streamlit app on a browser, run it with the following\n",
      "  command:\n",
      "\n",
      "    streamlit run /Library/Frameworks/Python.framework/Versions/3.12/lib/python3.12/site-packages/ipykernel_launcher.py [ARGUMENTS]\n"
     ]
    }
   ],
   "source": [
    "st.title(\"合同关键信息提取助手\")\n",
    "uploaded_file = st.file_uploader(\"请选择一个PDF文件\", type=\"pdf\")"
   ]
  },
  {
   "cell_type": "markdown",
   "id": "8cceb8f6-1ee1-4118-9118-7db8c39ad160",
   "metadata": {},
   "source": [
    "### 7.关键信息提取\n",
    "使用分段提取和交互函数，根据识别出的不同种类的合同，进行关键信息提取，并将信息放入pdf中"
   ]
  },
  {
   "cell_type": "code",
   "execution_count": 11,
   "id": "add26ca9-906b-4277-83d4-84d30a867931",
   "metadata": {},
   "outputs": [],
   "source": [
    "if uploaded_file is not None:\n",
    "    # 将上传的 PDF 转换为图像列表\n",
    "    images = convert_from_bytes(uploaded_file.read())\n",
    "\n",
    "    # 从每张图片（页面）中提取文本\n",
    "    extracted_text = []\n",
    "    for page_number, img in enumerate(images):\n",
    "        text = pytesseract.image_to_string(img, lang='chi_sim')  # 假设该文件的语言为中文\n",
    "        extracted_text.append(text)\n",
    "\n",
    "    # 将所有文本合并为一个字符串\n",
    "    full_text = \"\\n\".join(extracted_text)\n",
    "\n",
    "    # 确定合同类型并提取相关信息\n",
    "    if \"买卖合同\" in full_text or \"服务合同\" in full_text:\n",
    "        st.write(\"检测到买卖合同或服务合同\")\n",
    "        extracted_info_sales = extract_from_segments(full_text, sales_contract_prompts)\n",
    "        df = pd.DataFrame([extracted_info_sales])\n",
    "\n",
    "    elif \"MSP服务协议\" in full_text:\n",
    "        st.write(\"检测到MSP服务协议\")\n",
    "        extracted_info_msp = extract_from_segments(full_text, msp_agreement_prompts)\n",
    "        df = pd.DataFrame([extracted_info_msp])\n",
    "\n",
    "    else:\n",
    "        st.warning(\"未能识别合同类型，请确认合同是否包含明确的标题。\")"
   ]
  },
  {
   "cell_type": "markdown",
   "id": "c335c515-a2ef-4b6b-9728-f97f8b375213",
   "metadata": {},
   "source": [
    "### 8.显示 DataFrame"
   ]
  },
  {
   "cell_type": "code",
   "execution_count": 12,
   "id": "d049218f-3c8b-4a3e-b33c-dc4ac9faa721",
   "metadata": {},
   "outputs": [
    {
     "ename": "NameError",
     "evalue": "name 'df' is not defined",
     "output_type": "error",
     "traceback": [
      "\u001b[0;31m---------------------------------------------------------------------------\u001b[0m",
      "\u001b[0;31mNameError\u001b[0m                                 Traceback (most recent call last)",
      "Cell \u001b[0;32mIn[12], line 1\u001b[0m\n\u001b[0;32m----> 1\u001b[0m st\u001b[38;5;241m.\u001b[39mwrite(\u001b[43mdf\u001b[49m)\n",
      "\u001b[0;31mNameError\u001b[0m: name 'df' is not defined"
     ]
    }
   ],
   "source": [
    "st.write(df)"
   ]
  },
  {
   "cell_type": "markdown",
   "id": "9fd3aa62-b94f-48ec-88a2-4c5abd035dab",
   "metadata": {},
   "source": [
    "### DataFrame 保存和下载\n",
    "\n",
    "#### 将 DataFrame 保存进csv"
   ]
  },
  {
   "cell_type": "code",
   "execution_count": null,
   "id": "5912556b-8166-4cae-917d-7770a48d7a49",
   "metadata": {},
   "outputs": [],
   "source": [
    "csv_filename = \"合同关键信息.csv\"\n",
    "    df.to_csv(csv_filename, index=False)"
   ]
  },
  {
   "cell_type": "markdown",
   "id": "d20a8e25-1510-4653-9c20-c0b2a5f0f8d8",
   "metadata": {},
   "source": [
    "#### 提供csv下载"
   ]
  },
  {
   "cell_type": "code",
   "execution_count": null,
   "id": "ca03723f-4a3e-452a-8cb9-77956a610871",
   "metadata": {},
   "outputs": [],
   "source": [
    "with open(csv_filename, 'rb') as f:\n",
    "        st.download_button(\n",
    "            label=\"下载CSV文件\",\n",
    "            data=f,\n",
    "            file_name=csv_filename,\n",
    "            mime='text/csv'\n",
    "        )\n",
    "else:\n",
    "    st.warning(\"请上传一个PDF文件。\")"
   ]
  },
  {
   "cell_type": "code",
   "execution_count": null,
   "id": "a84ece42-92e6-49c1-bf22-bdafa1788a84",
   "metadata": {},
   "outputs": [],
   "source": []
  }
 ],
 "metadata": {
  "kernelspec": {
   "display_name": "Python 3 (ipykernel)",
   "language": "python",
   "name": "python3"
  },
  "language_info": {
   "codemirror_mode": {
    "name": "ipython",
    "version": 3
   },
   "file_extension": ".py",
   "mimetype": "text/x-python",
   "name": "python",
   "nbconvert_exporter": "python",
   "pygments_lexer": "ipython3",
   "version": "3.12.3"
  }
 },
 "nbformat": 4,
 "nbformat_minor": 5
}
